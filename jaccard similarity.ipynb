{
 "cells": [
  {
   "cell_type": "code",
   "execution_count": 2,
   "metadata": {},
   "outputs": [],
   "source": [
    "doc_trump=\"Mr.Trump became president after winnig the political elections. Thought he lost the support of some republic friends, Trump is friends with president Putin\"\n",
    "doc_election=\"President says putin  has no political interference is the election outcome He says it was a Wichhut by political parties.He claimed president putin is a friend who had nothing to do with the elections\"\n",
    "doc_putin=\"Post elections, Vladimir putin became President of Russia.President Putin had served as the prime minister earlier in his political career\"\n",
    "documents=[doc_trump,doc_election,doc_putin]"
   ]
  },
  {
   "cell_type": "code",
   "execution_count": 3,
   "metadata": {},
   "outputs": [
    {
     "data": {
      "text/html": [
       "<div>\n",
       "<style scoped>\n",
       "    .dataframe tbody tr th:only-of-type {\n",
       "        vertical-align: middle;\n",
       "    }\n",
       "\n",
       "    .dataframe tbody tr th {\n",
       "        vertical-align: top;\n",
       "    }\n",
       "\n",
       "    .dataframe thead th {\n",
       "        text-align: right;\n",
       "    }\n",
       "</style>\n",
       "<table border=\"1\" class=\"dataframe\">\n",
       "  <thead>\n",
       "    <tr style=\"text-align: right;\">\n",
       "      <th></th>\n",
       "      <th>after</th>\n",
       "      <th>as</th>\n",
       "      <th>became</th>\n",
       "      <th>by</th>\n",
       "      <th>career</th>\n",
       "      <th>claimed</th>\n",
       "      <th>do</th>\n",
       "      <th>earlier</th>\n",
       "      <th>election</th>\n",
       "      <th>elections</th>\n",
       "      <th>...</th>\n",
       "      <th>the</th>\n",
       "      <th>thought</th>\n",
       "      <th>to</th>\n",
       "      <th>trump</th>\n",
       "      <th>vladimir</th>\n",
       "      <th>was</th>\n",
       "      <th>who</th>\n",
       "      <th>wichhut</th>\n",
       "      <th>winnig</th>\n",
       "      <th>with</th>\n",
       "    </tr>\n",
       "  </thead>\n",
       "  <tbody>\n",
       "    <tr>\n",
       "      <th>doc_trump</th>\n",
       "      <td>1</td>\n",
       "      <td>0</td>\n",
       "      <td>1</td>\n",
       "      <td>0</td>\n",
       "      <td>0</td>\n",
       "      <td>0</td>\n",
       "      <td>0</td>\n",
       "      <td>0</td>\n",
       "      <td>0</td>\n",
       "      <td>1</td>\n",
       "      <td>...</td>\n",
       "      <td>2</td>\n",
       "      <td>1</td>\n",
       "      <td>0</td>\n",
       "      <td>2</td>\n",
       "      <td>0</td>\n",
       "      <td>0</td>\n",
       "      <td>0</td>\n",
       "      <td>0</td>\n",
       "      <td>1</td>\n",
       "      <td>1</td>\n",
       "    </tr>\n",
       "    <tr>\n",
       "      <th>doc_election</th>\n",
       "      <td>0</td>\n",
       "      <td>0</td>\n",
       "      <td>0</td>\n",
       "      <td>1</td>\n",
       "      <td>0</td>\n",
       "      <td>1</td>\n",
       "      <td>1</td>\n",
       "      <td>0</td>\n",
       "      <td>1</td>\n",
       "      <td>1</td>\n",
       "      <td>...</td>\n",
       "      <td>2</td>\n",
       "      <td>0</td>\n",
       "      <td>1</td>\n",
       "      <td>0</td>\n",
       "      <td>0</td>\n",
       "      <td>1</td>\n",
       "      <td>1</td>\n",
       "      <td>1</td>\n",
       "      <td>0</td>\n",
       "      <td>1</td>\n",
       "    </tr>\n",
       "    <tr>\n",
       "      <th>doc_putin</th>\n",
       "      <td>0</td>\n",
       "      <td>1</td>\n",
       "      <td>1</td>\n",
       "      <td>0</td>\n",
       "      <td>1</td>\n",
       "      <td>0</td>\n",
       "      <td>0</td>\n",
       "      <td>1</td>\n",
       "      <td>0</td>\n",
       "      <td>1</td>\n",
       "      <td>...</td>\n",
       "      <td>1</td>\n",
       "      <td>0</td>\n",
       "      <td>0</td>\n",
       "      <td>0</td>\n",
       "      <td>1</td>\n",
       "      <td>0</td>\n",
       "      <td>0</td>\n",
       "      <td>0</td>\n",
       "      <td>0</td>\n",
       "      <td>0</td>\n",
       "    </tr>\n",
       "  </tbody>\n",
       "</table>\n",
       "<p>3 rows × 49 columns</p>\n",
       "</div>"
      ],
      "text/plain": [
       "              after  as  became  by  career  claimed  do  earlier  election  \\\n",
       "doc_trump         1   0       1   0       0        0   0        0         0   \n",
       "doc_election      0   0       0   1       0        1   1        0         1   \n",
       "doc_putin         0   1       1   0       1        0   0        1         0   \n",
       "\n",
       "              elections  ...  the  thought  to  trump  vladimir  was  who  \\\n",
       "doc_trump             1  ...    2        1   0      2         0    0    0   \n",
       "doc_election          1  ...    2        0   1      0         0    1    1   \n",
       "doc_putin             1  ...    1        0   0      0         1    0    0   \n",
       "\n",
       "              wichhut  winnig  with  \n",
       "doc_trump           0       1     1  \n",
       "doc_election        1       0     1  \n",
       "doc_putin           0       0     0  \n",
       "\n",
       "[3 rows x 49 columns]"
      ]
     },
     "execution_count": 3,
     "metadata": {},
     "output_type": "execute_result"
    }
   ],
   "source": [
    "# Scikit Learn\n",
    "from sklearn.feature_extraction.text import CountVectorizer\n",
    "import pandas as pd\n",
    "\n",
    "# Create the Document Term Matrix\n",
    "count_vect = CountVectorizer(stop_words='english')\n",
    "count_vect = CountVectorizer()\n",
    "sparse_matrix = count_vect.fit_transform(documents)\n",
    "\n",
    "# OPTIONAL: Convert Sparse Matrix to Pandas Dataframe if you want to see the word frequencies.\n",
    "doc_term_matrix = sparse_matrix.todense()\n",
    "df = pd.DataFrame(doc_term_matrix,\n",
    "                  columns=count_vect.get_feature_names_out(),\n",
    "                  index=['doc_trump', 'doc_election', 'doc_putin'])\n",
    "df"
   ]
  },
  {
   "cell_type": "code",
   "execution_count": 4,
   "metadata": {},
   "outputs": [
    {
     "name": "stdout",
     "output_type": "stream",
     "text": [
      "[[1.         0.46413956 0.42426407]\n",
      " [0.46413956 1.         0.40842198]\n",
      " [0.42426407 0.40842198 1.        ]]\n"
     ]
    }
   ],
   "source": [
    "from sklearn.metrics.pairwise import cosine_similarity\n",
    "print(cosine_similarity(df,df))"
   ]
  },
  {
   "cell_type": "code",
   "execution_count": 5,
   "metadata": {},
   "outputs": [
    {
     "data": {
      "image/png": "[encoded data removed]",
      "text/plain": [
       "<Figure size 640x480 with 1 Axes>"
      ]
     },
     "metadata": {},
     "output_type": "display_data"
    }
   ],
   "source": [
    "import numpy as np\n",
    "import matplotlib.pyplot as plt\n",
    "A=np.array([7,3])\n",
    "B=np.array([3,7])\n",
    "ax=plt.axes()"
   ]
  },
  {
   "cell_type": "code",
   "execution_count": 6,
   "metadata": {},
   "outputs": [
    {
     "name": "stdout",
     "output_type": "stream",
     "text": [
      "AnB = {1, 2}\n",
      "AUB = {1, 2, 3, 4, 5, 6, 8, 9}\n",
      "j(A,B) =  0.25\n"
     ]
    }
   ],
   "source": [
    "A={1,2,3,4,6}\n",
    "B={1,2,5,8,9}\n",
    "C=A.intersection(B)\n",
    "D=A.union(B)\n",
    "print('AnB =', C)\n",
    "print('AUB =', D)\n",
    "print('j(A,B) = ',float(len(C))/float(len(D)))"
   ]
  },
  {
   "cell_type": "code",
   "execution_count": 7,
   "metadata": {},
   "outputs": [
    {
     "name": "stdout",
     "output_type": "stream",
     "text": [
      "Jaccard Similarity:  0.375\n"
     ]
    }
   ],
   "source": [
    "def jaccard_similarity(set1,set2):\n",
    "    intersection=len(set1.intersection(set2))\n",
    "    union=len(set1.union(set2))\n",
    "    return intersection/union\n",
    "set_a={\"Language\", \"for\", \"Computer\", \"NLP\", \"Science\"}\n",
    "set_b={\"NLP\", \"for\", \"Language\", \"Data\", \"ML\", \"AI\"}\n",
    "similarity=jaccard_similarity(set_a, set_b)\n",
    "print(\"Jaccard Similarity: \",similarity)"
   ]
  },
  {
   "cell_type": "code",
   "execution_count": 8,
   "metadata": {},
   "outputs": [],
   "source": [
    "# Step 1: Define predefined chatbot responses\n",
    "responses = [\n",
    "    \"You can return an item within 7 days of purchase.\",\n",
    "    \"Our return policy allows you to return items that are unopened and in their original condition.\",\n",
    "    \"We offer free shipping on orders over $50.\",\n",
    "    \"To track your order, you can visit the 'Order Tracking' page and enter your order number.\",\n",
    "    \"Our customer support team is available from 9 AM to 6 PM, Monday through Friday.\"\n",
    "]"
   ]
  },
  {
   "cell_type": "code",
   "execution_count": 9,
   "metadata": {},
   "outputs": [],
   "source": [
    "user_input=\"How can I track my order?\""
   ]
  },
  {
   "cell_type": "code",
   "execution_count": null,
   "metadata": {},
   "outputs": [],
   "source": []
  }
 ],
 "metadata": {
  "kernelspec": {
   "display_name": "myenv",
   "language": "python",
   "name": "python3"
  },
  "language_info": {
   "codemirror_mode": {
    "name": "ipython",
    "version": 3
   },
   "file_extension": ".py",
   "mimetype": "text/x-python",
   "name": "python",
   "nbconvert_exporter": "python",
   "pygments_lexer": "ipython3",
   "version": "3.12.1"
  }
 },
 "nbformat": 4,
 "nbformat_minor": 2
}
